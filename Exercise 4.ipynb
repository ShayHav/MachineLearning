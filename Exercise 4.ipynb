{
  "nbformat": 4,
  "nbformat_minor": 0,
  "metadata": {
    "colab": {
      "provenance": [],
      "include_colab_link": true
    },
    "kernelspec": {
      "name": "python3",
      "display_name": "Python 3"
    },
    "language_info": {
      "name": "python"
    }
  },
  "cells": [
    {
      "cell_type": "markdown",
      "metadata": {
        "id": "view-in-github",
        "colab_type": "text"
      },
      "source": [
        "<a href=\"https://colab.research.google.com/github/ShayHav/MachineLearning/blob/main/Exercise%204.ipynb\" target=\"_parent\"><img src=\"https://colab.research.google.com/assets/colab-badge.svg\" alt=\"Open In Colab\"/></a>"
      ]
    },
    {
      "cell_type": "markdown",
      "source": [
        "# Ex4_imgae_classification"
      ],
      "metadata": {
        "id": "7HEFWCTuq5k4"
      }
    },
    {
      "cell_type": "markdown",
      "source": [
        "\n",
        "1.   Shay Havivyan, 315367995\n",
        "2.   Shahar Lankry, 208600395"
      ],
      "metadata": {
        "id": "dlG3j2W1q00H"
      }
    },
    {
      "cell_type": "code",
      "execution_count": null,
      "metadata": {
        "colab": {
          "base_uri": "https://localhost:8080/",
          "height": 134
        },
        "id": "KCUBqt8bqzJw",
        "outputId": "25b4370e-0701-469f-cc75-c89bf95e8f6f"
      },
      "outputs": [
        {
          "output_type": "display_data",
          "data": {
            "text/plain": [
              "<IPython.core.display.HTML object>"
            ],
            "text/html": [
              "\n",
              "     <input type=\"file\" id=\"files-5f9a3ff9-b167-4a92-80e4-8295d4eb97f5\" name=\"files[]\" multiple disabled\n",
              "        style=\"border:none\" />\n",
              "     <output id=\"result-5f9a3ff9-b167-4a92-80e4-8295d4eb97f5\">\n",
              "      Upload widget is only available when the cell has been executed in the\n",
              "      current browser session. Please rerun this cell to enable.\n",
              "      </output>\n",
              "      <script>// Copyright 2017 Google LLC\n",
              "//\n",
              "// Licensed under the Apache License, Version 2.0 (the \"License\");\n",
              "// you may not use this file except in compliance with the License.\n",
              "// You may obtain a copy of the License at\n",
              "//\n",
              "//      http://www.apache.org/licenses/LICENSE-2.0\n",
              "//\n",
              "// Unless required by applicable law or agreed to in writing, software\n",
              "// distributed under the License is distributed on an \"AS IS\" BASIS,\n",
              "// WITHOUT WARRANTIES OR CONDITIONS OF ANY KIND, either express or implied.\n",
              "// See the License for the specific language governing permissions and\n",
              "// limitations under the License.\n",
              "\n",
              "/**\n",
              " * @fileoverview Helpers for google.colab Python module.\n",
              " */\n",
              "(function(scope) {\n",
              "function span(text, styleAttributes = {}) {\n",
              "  const element = document.createElement('span');\n",
              "  element.textContent = text;\n",
              "  for (const key of Object.keys(styleAttributes)) {\n",
              "    element.style[key] = styleAttributes[key];\n",
              "  }\n",
              "  return element;\n",
              "}\n",
              "\n",
              "// Max number of bytes which will be uploaded at a time.\n",
              "const MAX_PAYLOAD_SIZE = 100 * 1024;\n",
              "\n",
              "function _uploadFiles(inputId, outputId) {\n",
              "  const steps = uploadFilesStep(inputId, outputId);\n",
              "  const outputElement = document.getElementById(outputId);\n",
              "  // Cache steps on the outputElement to make it available for the next call\n",
              "  // to uploadFilesContinue from Python.\n",
              "  outputElement.steps = steps;\n",
              "\n",
              "  return _uploadFilesContinue(outputId);\n",
              "}\n",
              "\n",
              "// This is roughly an async generator (not supported in the browser yet),\n",
              "// where there are multiple asynchronous steps and the Python side is going\n",
              "// to poll for completion of each step.\n",
              "// This uses a Promise to block the python side on completion of each step,\n",
              "// then passes the result of the previous step as the input to the next step.\n",
              "function _uploadFilesContinue(outputId) {\n",
              "  const outputElement = document.getElementById(outputId);\n",
              "  const steps = outputElement.steps;\n",
              "\n",
              "  const next = steps.next(outputElement.lastPromiseValue);\n",
              "  return Promise.resolve(next.value.promise).then((value) => {\n",
              "    // Cache the last promise value to make it available to the next\n",
              "    // step of the generator.\n",
              "    outputElement.lastPromiseValue = value;\n",
              "    return next.value.response;\n",
              "  });\n",
              "}\n",
              "\n",
              "/**\n",
              " * Generator function which is called between each async step of the upload\n",
              " * process.\n",
              " * @param {string} inputId Element ID of the input file picker element.\n",
              " * @param {string} outputId Element ID of the output display.\n",
              " * @return {!Iterable<!Object>} Iterable of next steps.\n",
              " */\n",
              "function* uploadFilesStep(inputId, outputId) {\n",
              "  const inputElement = document.getElementById(inputId);\n",
              "  inputElement.disabled = false;\n",
              "\n",
              "  const outputElement = document.getElementById(outputId);\n",
              "  outputElement.innerHTML = '';\n",
              "\n",
              "  const pickedPromise = new Promise((resolve) => {\n",
              "    inputElement.addEventListener('change', (e) => {\n",
              "      resolve(e.target.files);\n",
              "    });\n",
              "  });\n",
              "\n",
              "  const cancel = document.createElement('button');\n",
              "  inputElement.parentElement.appendChild(cancel);\n",
              "  cancel.textContent = 'Cancel upload';\n",
              "  const cancelPromise = new Promise((resolve) => {\n",
              "    cancel.onclick = () => {\n",
              "      resolve(null);\n",
              "    };\n",
              "  });\n",
              "\n",
              "  // Wait for the user to pick the files.\n",
              "  const files = yield {\n",
              "    promise: Promise.race([pickedPromise, cancelPromise]),\n",
              "    response: {\n",
              "      action: 'starting',\n",
              "    }\n",
              "  };\n",
              "\n",
              "  cancel.remove();\n",
              "\n",
              "  // Disable the input element since further picks are not allowed.\n",
              "  inputElement.disabled = true;\n",
              "\n",
              "  if (!files) {\n",
              "    return {\n",
              "      response: {\n",
              "        action: 'complete',\n",
              "      }\n",
              "    };\n",
              "  }\n",
              "\n",
              "  for (const file of files) {\n",
              "    const li = document.createElement('li');\n",
              "    li.append(span(file.name, {fontWeight: 'bold'}));\n",
              "    li.append(span(\n",
              "        `(${file.type || 'n/a'}) - ${file.size} bytes, ` +\n",
              "        `last modified: ${\n",
              "            file.lastModifiedDate ? file.lastModifiedDate.toLocaleDateString() :\n",
              "                                    'n/a'} - `));\n",
              "    const percent = span('0% done');\n",
              "    li.appendChild(percent);\n",
              "\n",
              "    outputElement.appendChild(li);\n",
              "\n",
              "    const fileDataPromise = new Promise((resolve) => {\n",
              "      const reader = new FileReader();\n",
              "      reader.onload = (e) => {\n",
              "        resolve(e.target.result);\n",
              "      };\n",
              "      reader.readAsArrayBuffer(file);\n",
              "    });\n",
              "    // Wait for the data to be ready.\n",
              "    let fileData = yield {\n",
              "      promise: fileDataPromise,\n",
              "      response: {\n",
              "        action: 'continue',\n",
              "      }\n",
              "    };\n",
              "\n",
              "    // Use a chunked sending to avoid message size limits. See b/62115660.\n",
              "    let position = 0;\n",
              "    do {\n",
              "      const length = Math.min(fileData.byteLength - position, MAX_PAYLOAD_SIZE);\n",
              "      const chunk = new Uint8Array(fileData, position, length);\n",
              "      position += length;\n",
              "\n",
              "      const base64 = btoa(String.fromCharCode.apply(null, chunk));\n",
              "      yield {\n",
              "        response: {\n",
              "          action: 'append',\n",
              "          file: file.name,\n",
              "          data: base64,\n",
              "        },\n",
              "      };\n",
              "\n",
              "      let percentDone = fileData.byteLength === 0 ?\n",
              "          100 :\n",
              "          Math.round((position / fileData.byteLength) * 100);\n",
              "      percent.textContent = `${percentDone}% done`;\n",
              "\n",
              "    } while (position < fileData.byteLength);\n",
              "  }\n",
              "\n",
              "  // All done.\n",
              "  yield {\n",
              "    response: {\n",
              "      action: 'complete',\n",
              "    }\n",
              "  };\n",
              "}\n",
              "\n",
              "scope.google = scope.google || {};\n",
              "scope.google.colab = scope.google.colab || {};\n",
              "scope.google.colab._files = {\n",
              "  _uploadFiles,\n",
              "  _uploadFilesContinue,\n",
              "};\n",
              "})(self);\n",
              "</script> "
            ]
          },
          "metadata": {}
        },
        {
          "output_type": "stream",
          "name": "stdout",
          "text": [
            "Saving Faces.zip to Faces (1).zip\n",
            "User uploaded file \"Faces.zip\" with length 619094 bytes\n",
            "Archive:  /content/Faces.zip\n",
            "replace NoSunglasses/choon_straight_happy_open_4.pgm? [y]es, [n]o, [A]ll, [N]one, [r]ename: N\n"
          ]
        }
      ],
      "source": [
        "from google.colab import files\n",
        "# upload faces files using user prompt\n",
        "uploaded = files.upload()\n",
        "for fn in uploaded.keys():\n",
        "  print('User uploaded file \"{name}\" with length {length} bytes'.format(\n",
        "      name=fn, length=len(uploaded[fn])))\n",
        "\n",
        "# extract the files\n",
        "!unzip '/content/Faces.zip'\n",
        " "
      ]
    },
    {
      "cell_type": "code",
      "source": [
        "import matplotlib.pyplot as plt\n",
        "import numpy as np\n",
        "import os\n",
        "import tensorflow as tf\n",
        "import keras\n",
        "from tensorflow.keras import layers\n",
        "from tensorflow.keras.models import Sequential\n",
        "from skimage.io import imread_collection\n",
        "from sklearn.model_selection import train_test_split"
      ],
      "metadata": {
        "id": "4bKc_CSuvkJw"
      },
      "execution_count": null,
      "outputs": []
    },
    {
      "cell_type": "code",
      "source": [
        "# reading the images of people without sunglass to numpy array\n",
        "no_glasses_images = imread_collection('/content/NoSunglasses/*.pgm')\n",
        "no_glasses_images = np.array(no_glasses_images)\n",
        "\n",
        "# reading the images of people with sunglass to numpy array\n",
        "glasses_images = imread_collection('/content/Sunglassess/*.pgm')\n",
        "glasses_images = np.array(glasses_images)\n",
        "\n",
        "print(f'shape of sunglasses image {glasses_images.shape} and shape of no sunglasses images {no_glasses_images.shape}')\n",
        "\n",
        "# concatenating both array to one array to work with\n",
        "images = np.concatenate((glasses_images, no_glasses_images))\n",
        "\n",
        "# creating the result where image with sunglasses is class 1 and image without sunglass is class 0\n",
        "classes = np.concatenate((np.ones(glasses_images.shape[0]), np.zeros(no_glasses_images.shape[0])))\n",
        "print(f'overall shape of images is {images.shape}, and the result {classes.shape}')\n",
        "\n",
        "# spliting the data to test and train\n",
        "x_train, x_test, y_train, y_test = train_test_split(images, classes, test_size = 1/3 )\n",
        "\n",
        "input_shape = x_train[0].shape\n",
        "input_shape"
      ],
      "metadata": {
        "colab": {
          "base_uri": "https://localhost:8080/"
        },
        "id": "wqPe8RzHH4Zb",
        "outputId": "2221a500-afc2-4c2b-da69-c776d104167d"
      },
      "execution_count": null,
      "outputs": [
        {
          "output_type": "stream",
          "name": "stdout",
          "text": [
            "shape of sunglasses image (311, 30, 32) and shape of no sunglasses images (313, 30, 32)\n",
            "overall shape of images is (624, 30, 32), and the result (624,)\n"
          ]
        },
        {
          "output_type": "execute_result",
          "data": {
            "text/plain": [
              "(30, 32)"
            ]
          },
          "metadata": {},
          "execution_count": 51
        }
      ]
    },
    {
      "cell_type": "code",
      "source": [
        "# creating the model with 7 layers as seen in class\n",
        "model = Sequential()\n",
        "model.add(layers.Conv2D(filters=32, kernel_size=(3,3), activation='relu',padding='same', input_shape=(30,32,1)))\n",
        "model.add(layers.MaxPool2D((2,2)))\n",
        "model.add(layers.Conv2D(filters=64, kernel_size=(3,3), activation='relu',padding='same'))\n",
        "model.add(layers.MaxPool2D((2,2)))\n",
        "model.add(layers.Flatten())\n",
        "model.add(layers.Dense(64, activation='relu'))\n",
        "model.add(layers.Dense(2, activation='softmax'))\n",
        "# presenting the structure of the CNN\n",
        "model.summary()"
      ],
      "metadata": {
        "colab": {
          "base_uri": "https://localhost:8080/"
        },
        "id": "RcJ1kC7RSwMV",
        "outputId": "37d40e74-fb89-43d9-eb7e-22a7298dbeb3"
      },
      "execution_count": null,
      "outputs": [
        {
          "output_type": "stream",
          "name": "stdout",
          "text": [
            "Model: \"sequential_4\"\n",
            "_________________________________________________________________\n",
            " Layer (type)                Output Shape              Param #   \n",
            "=================================================================\n",
            " conv2d_3 (Conv2D)           (None, 30, 32, 32)        320       \n",
            "                                                                 \n",
            " max_pooling2d_2 (MaxPooling  (None, 15, 16, 32)       0         \n",
            " 2D)                                                             \n",
            "                                                                 \n",
            " conv2d_4 (Conv2D)           (None, 15, 16, 64)        18496     \n",
            "                                                                 \n",
            " max_pooling2d_3 (MaxPooling  (None, 7, 8, 64)         0         \n",
            " 2D)                                                             \n",
            "                                                                 \n",
            " flatten_1 (Flatten)         (None, 3584)              0         \n",
            "                                                                 \n",
            " dense_2 (Dense)             (None, 64)                229440    \n",
            "                                                                 \n",
            " dense_3 (Dense)             (None, 2)                 130       \n",
            "                                                                 \n",
            "=================================================================\n",
            "Total params: 248,386\n",
            "Trainable params: 248,386\n",
            "Non-trainable params: 0\n",
            "_________________________________________________________________\n"
          ]
        }
      ]
    },
    {
      "cell_type": "code",
      "source": [
        "# compiling the model and fitting using our samples.\n",
        "model.compile(optimizer='adam', loss='sparse_categorical_crossentropy',metrics=['accuracy'])\n",
        "history = model.fit(x_train, y_train, epochs=10, \n",
        "                    validation_data=(x_test, y_test))"
      ],
      "metadata": {
        "colab": {
          "base_uri": "https://localhost:8080/"
        },
        "id": "OLBKXnOFVz7y",
        "outputId": "849f5c0d-0815-46e4-fccd-cb0ec4935d67"
      },
      "execution_count": null,
      "outputs": [
        {
          "output_type": "stream",
          "name": "stdout",
          "text": [
            "Epoch 1/10\n",
            "13/13 [==============================] - 1s 78ms/step - loss: 8.9276 - accuracy: 0.5192 - val_loss: 0.6807 - val_accuracy: 0.5673\n",
            "Epoch 2/10\n",
            "13/13 [==============================] - 1s 68ms/step - loss: 0.6634 - accuracy: 0.6202 - val_loss: 0.6382 - val_accuracy: 0.6442\n",
            "Epoch 3/10\n",
            "13/13 [==============================] - 1s 67ms/step - loss: 0.5573 - accuracy: 0.7524 - val_loss: 0.5293 - val_accuracy: 0.7837\n",
            "Epoch 4/10\n",
            "13/13 [==============================] - 1s 67ms/step - loss: 0.4555 - accuracy: 0.8125 - val_loss: 0.4918 - val_accuracy: 0.7740\n",
            "Epoch 5/10\n",
            "13/13 [==============================] - 1s 66ms/step - loss: 0.3930 - accuracy: 0.8389 - val_loss: 0.4439 - val_accuracy: 0.7404\n",
            "Epoch 6/10\n",
            "13/13 [==============================] - 1s 67ms/step - loss: 0.3734 - accuracy: 0.8029 - val_loss: 0.3172 - val_accuracy: 0.8990\n",
            "Epoch 7/10\n",
            "13/13 [==============================] - 1s 70ms/step - loss: 0.2749 - accuracy: 0.9062 - val_loss: 0.2898 - val_accuracy: 0.8798\n",
            "Epoch 8/10\n",
            "13/13 [==============================] - 1s 68ms/step - loss: 0.1943 - accuracy: 0.9447 - val_loss: 0.2939 - val_accuracy: 0.8702\n",
            "Epoch 9/10\n",
            "13/13 [==============================] - 1s 69ms/step - loss: 0.1339 - accuracy: 0.9784 - val_loss: 0.2226 - val_accuracy: 0.9087\n",
            "Epoch 10/10\n",
            "13/13 [==============================] - 1s 68ms/step - loss: 0.1014 - accuracy: 0.9808 - val_loss: 0.2215 - val_accuracy: 0.9231\n"
          ]
        }
      ]
    },
    {
      "cell_type": "code",
      "source": [
        "# Evaluate the model\n",
        "plt.plot(history.history['accuracy'], label='accuracy')\n",
        "plt.plot(history.history['val_accuracy'], label = 'val_accuracy')\n",
        "plt.xlabel('Epoch')\n",
        "plt.ylabel('Accuracy')\n",
        "plt.ylim([0.5, 1])\n",
        "plt.legend(loc='lower right')\n",
        "plt.show()\n",
        "\n",
        "# calculating the accuracy of the model with the test samples\n",
        "test_loss, test_acc = model.evaluate(x_test,  y_test, verbose=2)\n",
        "print(f'test lost:{test_loss}, accuracy of test:{test_acc}')"
      ],
      "metadata": {
        "colab": {
          "base_uri": "https://localhost:8080/",
          "height": 649
        },
        "id": "yE3sJnlEWZuO",
        "outputId": "5782ca4d-52f6-46c4-a2a2-f24d656f5136"
      },
      "execution_count": null,
      "outputs": [
        {
          "output_type": "display_data",
          "data": {
            "text/plain": [
              "<Figure size 1080x720 with 1 Axes>"
            ],
            "image/png": "[encoded data removed]"
          },
          "metadata": {
            "needs_background": "light"
          }
        },
        {
          "output_type": "stream",
          "name": "stdout",
          "text": [
            "7/7 - 0s - loss: 0.2215 - accuracy: 0.9231 - 117ms/epoch - 17ms/step\n",
            "test lost:0.2214985191822052, accuracy of test:0.9230769276618958\n"
          ]
        }
      ]
    },
    {
      "cell_type": "markdown",
      "source": [
        "###1. Does the model overfit?\n",
        "No, as we can see above the model achieved high accuracy in both the train and test images."
      ],
      "metadata": {
        "id": "GU63ZUrrc1-2"
      }
    },
    {
      "cell_type": "markdown",
      "source": [
        "###2. What's the effect of batch size? In general, do you see this effect in the current task?\n",
        "To test the effect of different batch sizes we fitted the model with different sizes from [100, 200, 300, 400].\n",
        "\n",
        "the result show that the best accuracy was achieved when batch size is 200 but the different is not much around 1% improvement. you can view the result below."
      ],
      "metadata": {
        "id": "KPpyo_xgcJ9C"
      }
    },
    {
      "cell_type": "code",
      "source": [
        "history = model.fit(x_train, y_train, epochs=10, batch_size=200, validation_data=(x_test, y_test))\n",
        "test_loss, test_acc = model.evaluate(x_test,  y_test, verbose=2)\n",
        "print(f'test lost:{test_loss}, accuracy of test:{test_acc}')"
      ],
      "metadata": {
        "colab": {
          "base_uri": "https://localhost:8080/"
        },
        "id": "0N_39s3uXVpG",
        "outputId": "22311864-01ed-4f62-a000-125f6aac8cf6"
      },
      "execution_count": null,
      "outputs": [
        {
          "output_type": "stream",
          "name": "stdout",
          "text": [
            "Epoch 1/10\n",
            "3/3 [==============================] - 1s 230ms/step - loss: 0.0869 - accuracy: 0.9856 - val_loss: 0.1962 - val_accuracy: 0.9231\n",
            "Epoch 2/10\n",
            "3/3 [==============================] - 1s 214ms/step - loss: 0.0729 - accuracy: 0.9928 - val_loss: 0.1702 - val_accuracy: 0.9327\n",
            "Epoch 3/10\n",
            "3/3 [==============================] - 1s 219ms/step - loss: 0.0673 - accuracy: 0.9952 - val_loss: 0.1679 - val_accuracy: 0.9375\n",
            "Epoch 4/10\n",
            "3/3 [==============================] - 1s 222ms/step - loss: 0.0625 - accuracy: 0.9976 - val_loss: 0.1818 - val_accuracy: 0.9279\n",
            "Epoch 5/10\n",
            "3/3 [==============================] - 1s 211ms/step - loss: 0.0630 - accuracy: 0.9904 - val_loss: 0.1895 - val_accuracy: 0.9279\n",
            "Epoch 6/10\n",
            "3/3 [==============================] - 1s 218ms/step - loss: 0.0565 - accuracy: 0.9928 - val_loss: 0.1579 - val_accuracy: 0.9423\n",
            "Epoch 7/10\n",
            "3/3 [==============================] - 1s 217ms/step - loss: 0.0555 - accuracy: 0.9976 - val_loss: 0.1535 - val_accuracy: 0.9471\n",
            "Epoch 8/10\n",
            "3/3 [==============================] - 1s 218ms/step - loss: 0.0514 - accuracy: 0.9976 - val_loss: 0.1806 - val_accuracy: 0.9231\n",
            "Epoch 9/10\n",
            "3/3 [==============================] - 1s 213ms/step - loss: 0.0491 - accuracy: 0.9928 - val_loss: 0.1894 - val_accuracy: 0.9231\n",
            "Epoch 10/10\n",
            "3/3 [==============================] - 1s 217ms/step - loss: 0.0449 - accuracy: 0.9976 - val_loss: 0.1639 - val_accuracy: 0.9519\n",
            "7/7 - 0s - loss: 0.1639 - accuracy: 0.9519 - 125ms/epoch - 18ms/step\n",
            "test lost:0.1638728529214859, accuracy of test:0.9519230723381042\n"
          ]
        }
      ]
    },
    {
      "cell_type": "markdown",
      "source": [
        "###3. What was the optimal optimizer? Explain.\n",
        "according to keras documentation the following optimizers are available:\n",
        "\n",
        "-    SGD\n",
        "-   RMSprop\n",
        "-    Adam\n",
        "-    AdamW\n",
        "-    Adadelta\n",
        "-    Adagrad\n",
        "-    Adamax\n",
        "-    Adafactor\n",
        "-    Nadam\n",
        "-    Ftrl\n",
        "\n",
        "in practice AdamW, Adafactor does not work. we compile the model with each optimizer and fit to the given train images and calculated the accuracy on the test images. \n",
        "below you can see the graph of optimizer and the result."
      ],
      "metadata": {
        "id": "64TlZOFfdHVW"
      }
    },
    {
      "cell_type": "code",
      "source": [
        "optimizers = [\n",
        "    'SGD',\n",
        "    'RMSprop',\n",
        "    'Adam',\n",
        "    'Adadelta',\n",
        "    'Adagrad',\n",
        "    'Adamax',\n",
        "    'Nadam',\n",
        "    'Ftrl'\n",
        "]\n",
        "\n",
        "optimal = ''\n",
        "index = np.arange(len(optimizers)) + 0.3\n",
        "bar_width = 0.4\n",
        "\n",
        "for i,optimizer in enumerate(optimizers):\n",
        "  print(optimizer)\n",
        "  model.compile(optimizer=optimizer, loss='sparse_categorical_crossentropy',metrics=['accuracy'])\n",
        "  history = model.fit(x_train, y_train, epochs=10, validation_data=(x_test, y_test))\n",
        "  test_loss, test_acc = model.evaluate(x_test,  y_test, verbose=2)\n",
        "  plt.bar(index[i], test_acc)\n",
        "\n",
        "plt.rcParams[\"figure.figsize\"] = (15,10)\n",
        "plt.xticks(index, optimizers)\n",
        "plt.show()"
      ],
      "metadata": {
        "colab": {
          "base_uri": "https://localhost:8080/",
          "height": 1000
        },
        "id": "5p8HHkstddAt",
        "outputId": "8ae7b291-1b62-491c-a67c-ed5f929ae985"
      },
      "execution_count": null,
      "outputs": [
        {
          "output_type": "stream",
          "name": "stdout",
          "text": [
            "SGD\n",
            "Epoch 1/10\n",
            "13/13 [==============================] - 1s 85ms/step - loss: 1.2022 - accuracy: 0.6755 - val_loss: 0.5950 - val_accuracy: 0.7837\n",
            "Epoch 2/10\n",
            "13/13 [==============================] - 1s 72ms/step - loss: 0.4440 - accuracy: 0.8582 - val_loss: 0.3369 - val_accuracy: 0.8702\n",
            "Epoch 3/10\n",
            "13/13 [==============================] - 1s 69ms/step - loss: 0.2311 - accuracy: 0.9375 - val_loss: 0.2104 - val_accuracy: 0.9087\n",
            "Epoch 4/10\n",
            "13/13 [==============================] - 1s 73ms/step - loss: 0.1395 - accuracy: 0.9712 - val_loss: 0.1793 - val_accuracy: 0.9038\n",
            "Epoch 5/10\n",
            "13/13 [==============================] - 1s 70ms/step - loss: 0.1175 - accuracy: 0.9663 - val_loss: 0.2217 - val_accuracy: 0.9038\n",
            "Epoch 6/10\n",
            "13/13 [==============================] - 1s 72ms/step - loss: 0.0832 - accuracy: 0.9784 - val_loss: 0.5345 - val_accuracy: 0.7788\n",
            "Epoch 7/10\n",
            "13/13 [==============================] - 1s 71ms/step - loss: 0.0719 - accuracy: 0.9832 - val_loss: 0.1398 - val_accuracy: 0.9231\n",
            "Epoch 8/10\n",
            "13/13 [==============================] - 1s 70ms/step - loss: 0.0321 - accuracy: 0.9976 - val_loss: 0.1135 - val_accuracy: 0.9567\n",
            "Epoch 9/10\n",
            "13/13 [==============================] - 1s 71ms/step - loss: 0.0282 - accuracy: 1.0000 - val_loss: 0.1273 - val_accuracy: 0.9375\n",
            "Epoch 10/10\n",
            "13/13 [==============================] - 1s 73ms/step - loss: 0.0218 - accuracy: 0.9976 - val_loss: 0.1350 - val_accuracy: 0.9327\n",
            "7/7 - 0s - loss: 0.1350 - accuracy: 0.9327 - 112ms/epoch - 16ms/step\n",
            "RMSprop\n",
            "Epoch 1/10\n",
            "13/13 [==============================] - 2s 82ms/step - loss: 0.4222 - accuracy: 0.9495 - val_loss: 0.1457 - val_accuracy: 0.9423\n",
            "Epoch 2/10\n",
            "13/13 [==============================] - 1s 72ms/step - loss: 0.0228 - accuracy: 0.9928 - val_loss: 0.1434 - val_accuracy: 0.9423\n",
            "Epoch 3/10\n",
            "13/13 [==============================] - 1s 72ms/step - loss: 0.0137 - accuracy: 0.9976 - val_loss: 0.1014 - val_accuracy: 0.9567\n",
            "Epoch 4/10\n",
            "13/13 [==============================] - 1s 73ms/step - loss: 0.0514 - accuracy: 0.9736 - val_loss: 0.2806 - val_accuracy: 0.9038\n",
            "Epoch 5/10\n",
            "13/13 [==============================] - 1s 71ms/step - loss: 0.0354 - accuracy: 0.9928 - val_loss: 0.1886 - val_accuracy: 0.9423\n",
            "Epoch 6/10\n",
            "13/13 [==============================] - 1s 74ms/step - loss: 0.0109 - accuracy: 1.0000 - val_loss: 0.1271 - val_accuracy: 0.9615\n",
            "Epoch 7/10\n",
            "13/13 [==============================] - 1s 73ms/step - loss: 0.0137 - accuracy: 0.9928 - val_loss: 0.2843 - val_accuracy: 0.8894\n",
            "Epoch 8/10\n",
            "13/13 [==============================] - 1s 73ms/step - loss: 0.0618 - accuracy: 0.9784 - val_loss: 0.1410 - val_accuracy: 0.9615\n",
            "Epoch 9/10\n",
            "13/13 [==============================] - 1s 75ms/step - loss: 0.0018 - accuracy: 1.0000 - val_loss: 0.1075 - val_accuracy: 0.9663\n",
            "Epoch 10/10\n",
            "13/13 [==============================] - 1s 75ms/step - loss: 8.6107e-04 - accuracy: 1.0000 - val_loss: 0.1192 - val_accuracy: 0.9615\n",
            "7/7 - 0s - loss: 0.1192 - accuracy: 0.9615 - 130ms/epoch - 19ms/step\n",
            "Adam\n",
            "Epoch 1/10\n",
            "13/13 [==============================] - 2s 85ms/step - loss: 0.0049 - accuracy: 1.0000 - val_loss: 0.1023 - val_accuracy: 0.9663\n",
            "Epoch 2/10\n",
            "13/13 [==============================] - 1s 71ms/step - loss: 0.0144 - accuracy: 0.9952 - val_loss: 0.2723 - val_accuracy: 0.9183\n",
            "Epoch 3/10\n",
            "13/13 [==============================] - 1s 71ms/step - loss: 0.0129 - accuracy: 0.9928 - val_loss: 0.2558 - val_accuracy: 0.9423\n",
            "Epoch 4/10\n",
            "13/13 [==============================] - 1s 69ms/step - loss: 0.0155 - accuracy: 0.9976 - val_loss: 0.1229 - val_accuracy: 0.9663\n",
            "Epoch 5/10\n",
            "13/13 [==============================] - 1s 71ms/step - loss: 0.0064 - accuracy: 0.9952 - val_loss: 0.1957 - val_accuracy: 0.9663\n",
            "Epoch 6/10\n",
            "13/13 [==============================] - 1s 71ms/step - loss: 0.0025 - accuracy: 1.0000 - val_loss: 0.1315 - val_accuracy: 0.9712\n",
            "Epoch 7/10\n",
            "13/13 [==============================] - 1s 72ms/step - loss: 3.2332e-04 - accuracy: 1.0000 - val_loss: 0.1153 - val_accuracy: 0.9760\n",
            "Epoch 8/10\n",
            "13/13 [==============================] - 1s 73ms/step - loss: 4.7100e-04 - accuracy: 1.0000 - val_loss: 0.0978 - val_accuracy: 0.9856\n",
            "Epoch 9/10\n",
            "13/13 [==============================] - 1s 71ms/step - loss: 2.0441e-04 - accuracy: 1.0000 - val_loss: 0.0991 - val_accuracy: 0.9856\n",
            "Epoch 10/10\n",
            "13/13 [==============================] - 1s 70ms/step - loss: 1.2338e-04 - accuracy: 1.0000 - val_loss: 0.1087 - val_accuracy: 0.9808\n",
            "7/7 - 0s - loss: 0.1087 - accuracy: 0.9808 - 121ms/epoch - 17ms/step\n",
            "Adadelta\n",
            "Epoch 1/10\n",
            "13/13 [==============================] - 2s 85ms/step - loss: 1.0534e-04 - accuracy: 1.0000 - val_loss: 0.1087 - val_accuracy: 0.9808\n",
            "Epoch 2/10\n",
            "13/13 [==============================] - 1s 74ms/step - loss: 1.0507e-04 - accuracy: 1.0000 - val_loss: 0.1087 - val_accuracy: 0.9808\n",
            "Epoch 3/10\n",
            "13/13 [==============================] - 1s 74ms/step - loss: 1.0482e-04 - accuracy: 1.0000 - val_loss: 0.1087 - val_accuracy: 0.9808\n",
            "Epoch 4/10\n",
            "13/13 [==============================] - 1s 75ms/step - loss: 1.0456e-04 - accuracy: 1.0000 - val_loss: 0.1087 - val_accuracy: 0.9808\n",
            "Epoch 5/10\n",
            "13/13 [==============================] - 1s 73ms/step - loss: 1.0430e-04 - accuracy: 1.0000 - val_loss: 0.1088 - val_accuracy: 0.9808\n",
            "Epoch 6/10\n",
            "13/13 [==============================] - 1s 72ms/step - loss: 1.0405e-04 - accuracy: 1.0000 - val_loss: 0.1088 - val_accuracy: 0.9808\n",
            "Epoch 7/10\n",
            "13/13 [==============================] - 1s 70ms/step - loss: 1.0380e-04 - accuracy: 1.0000 - val_loss: 0.1088 - val_accuracy: 0.9808\n",
            "Epoch 8/10\n",
            "13/13 [==============================] - 1s 73ms/step - loss: 1.0355e-04 - accuracy: 1.0000 - val_loss: 0.1088 - val_accuracy: 0.9808\n",
            "Epoch 9/10\n",
            "13/13 [==============================] - 1s 72ms/step - loss: 1.0330e-04 - accuracy: 1.0000 - val_loss: 0.1088 - val_accuracy: 0.9808\n",
            "Epoch 10/10\n",
            "13/13 [==============================] - 1s 72ms/step - loss: 1.0306e-04 - accuracy: 1.0000 - val_loss: 0.1088 - val_accuracy: 0.9808\n",
            "7/7 - 0s - loss: 0.1088 - accuracy: 0.9808 - 118ms/epoch - 17ms/step\n",
            "Adagrad\n",
            "Epoch 1/10\n",
            "13/13 [==============================] - 1s 85ms/step - loss: 1.0269e-04 - accuracy: 1.0000 - val_loss: 0.1088 - val_accuracy: 0.9808\n",
            "Epoch 2/10\n",
            "13/13 [==============================] - 1s 74ms/step - loss: 1.0187e-04 - accuracy: 1.0000 - val_loss: 0.1088 - val_accuracy: 0.9808\n",
            "Epoch 3/10\n",
            "13/13 [==============================] - 1s 71ms/step - loss: 1.0097e-04 - accuracy: 1.0000 - val_loss: 0.1088 - val_accuracy: 0.9808\n",
            "Epoch 4/10\n",
            "13/13 [==============================] - 1s 71ms/step - loss: 1.0010e-04 - accuracy: 1.0000 - val_loss: 0.1088 - val_accuracy: 0.9808\n",
            "Epoch 5/10\n",
            "13/13 [==============================] - 1s 70ms/step - loss: 9.9336e-05 - accuracy: 1.0000 - val_loss: 0.1088 - val_accuracy: 0.9808\n",
            "Epoch 6/10\n",
            "13/13 [==============================] - 1s 71ms/step - loss: 9.8614e-05 - accuracy: 1.0000 - val_loss: 0.1088 - val_accuracy: 0.9808\n",
            "Epoch 7/10\n",
            "13/13 [==============================] - 1s 71ms/step - loss: 9.7781e-05 - accuracy: 1.0000 - val_loss: 0.1088 - val_accuracy: 0.9808\n",
            "Epoch 8/10\n",
            "13/13 [==============================] - 1s 71ms/step - loss: 9.7065e-05 - accuracy: 1.0000 - val_loss: 0.1088 - val_accuracy: 0.9808\n",
            "Epoch 9/10\n",
            "13/13 [==============================] - 1s 70ms/step - loss: 9.6355e-05 - accuracy: 1.0000 - val_loss: 0.1088 - val_accuracy: 0.9808\n",
            "Epoch 10/10\n",
            "13/13 [==============================] - 1s 67ms/step - loss: 9.5642e-05 - accuracy: 1.0000 - val_loss: 0.1088 - val_accuracy: 0.9808\n",
            "7/7 - 0s - loss: 0.1088 - accuracy: 0.9808 - 114ms/epoch - 16ms/step\n",
            "Adamax\n",
            "Epoch 1/10\n",
            "13/13 [==============================] - 2s 86ms/step - loss: 2.4618e-04 - accuracy: 1.0000 - val_loss: 0.1622 - val_accuracy: 0.9615\n",
            "Epoch 2/10\n",
            "13/13 [==============================] - 1s 71ms/step - loss: 2.9388e-04 - accuracy: 1.0000 - val_loss: 0.1550 - val_accuracy: 0.9712\n",
            "Epoch 3/10\n",
            "13/13 [==============================] - 1s 73ms/step - loss: 5.7768e-05 - accuracy: 1.0000 - val_loss: 0.1208 - val_accuracy: 0.9760\n",
            "Epoch 4/10\n",
            "13/13 [==============================] - 1s 70ms/step - loss: 2.4073e-05 - accuracy: 1.0000 - val_loss: 0.1158 - val_accuracy: 0.9760\n",
            "Epoch 5/10\n",
            "13/13 [==============================] - 1s 73ms/step - loss: 1.9350e-05 - accuracy: 1.0000 - val_loss: 0.1211 - val_accuracy: 0.9712\n",
            "Epoch 6/10\n",
            "13/13 [==============================] - 1s 73ms/step - loss: 1.5197e-05 - accuracy: 1.0000 - val_loss: 0.1279 - val_accuracy: 0.9712\n",
            "Epoch 7/10\n",
            "13/13 [==============================] - 1s 72ms/step - loss: 1.3529e-05 - accuracy: 1.0000 - val_loss: 0.1315 - val_accuracy: 0.9712\n",
            "Epoch 8/10\n",
            "13/13 [==============================] - 1s 74ms/step - loss: 1.2262e-05 - accuracy: 1.0000 - val_loss: 0.1321 - val_accuracy: 0.9712\n",
            "Epoch 9/10\n",
            "13/13 [==============================] - 1s 71ms/step - loss: 1.1352e-05 - accuracy: 1.0000 - val_loss: 0.1321 - val_accuracy: 0.9712\n",
            "Epoch 10/10\n",
            "13/13 [==============================] - 1s 72ms/step - loss: 1.0453e-05 - accuracy: 1.0000 - val_loss: 0.1322 - val_accuracy: 0.9712\n",
            "7/7 - 0s - loss: 0.1322 - accuracy: 0.9712 - 119ms/epoch - 17ms/step\n",
            "Nadam\n",
            "Epoch 1/10\n",
            "13/13 [==============================] - 3s 90ms/step - loss: 7.3787e-04 - accuracy: 1.0000 - val_loss: 0.1555 - val_accuracy: 0.9663\n",
            "Epoch 2/10\n",
            "13/13 [==============================] - 1s 74ms/step - loss: 4.5348e-05 - accuracy: 1.0000 - val_loss: 0.1427 - val_accuracy: 0.9712\n",
            "Epoch 3/10\n",
            "13/13 [==============================] - 1s 76ms/step - loss: 1.4795e-05 - accuracy: 1.0000 - val_loss: 0.1636 - val_accuracy: 0.9663\n",
            "Epoch 4/10\n",
            "13/13 [==============================] - 1s 75ms/step - loss: 6.6542e-06 - accuracy: 1.0000 - val_loss: 0.1486 - val_accuracy: 0.9712\n",
            "Epoch 5/10\n",
            "13/13 [==============================] - 1s 74ms/step - loss: 4.1401e-06 - accuracy: 1.0000 - val_loss: 0.1423 - val_accuracy: 0.9712\n",
            "Epoch 6/10\n",
            "13/13 [==============================] - 1s 75ms/step - loss: 3.0716e-06 - accuracy: 1.0000 - val_loss: 0.1502 - val_accuracy: 0.9712\n",
            "Epoch 7/10\n",
            "13/13 [==============================] - 1s 75ms/step - loss: 2.5715e-06 - accuracy: 1.0000 - val_loss: 0.1482 - val_accuracy: 0.9712\n",
            "Epoch 8/10\n",
            "13/13 [==============================] - 1s 73ms/step - loss: 2.0514e-06 - accuracy: 1.0000 - val_loss: 0.1484 - val_accuracy: 0.9712\n",
            "Epoch 9/10\n",
            "13/13 [==============================] - 1s 76ms/step - loss: 1.7546e-06 - accuracy: 1.0000 - val_loss: 0.1465 - val_accuracy: 0.9712\n",
            "Epoch 10/10\n",
            "13/13 [==============================] - 1s 77ms/step - loss: 1.4941e-06 - accuracy: 1.0000 - val_loss: 0.1501 - val_accuracy: 0.9712\n",
            "7/7 - 0s - loss: 0.1501 - accuracy: 0.9712 - 123ms/epoch - 18ms/step\n",
            "Ftrl\n",
            "Epoch 1/10\n",
            "13/13 [==============================] - 2s 87ms/step - loss: 0.6399 - accuracy: 0.4856 - val_loss: 0.6932 - val_accuracy: 0.4615\n",
            "Epoch 2/10\n",
            "13/13 [==============================] - 1s 73ms/step - loss: 0.6931 - accuracy: 0.4928 - val_loss: 0.6932 - val_accuracy: 0.4615\n",
            "Epoch 3/10\n",
            "13/13 [==============================] - 1s 72ms/step - loss: 0.6931 - accuracy: 0.5216 - val_loss: 0.6932 - val_accuracy: 0.4615\n",
            "Epoch 4/10\n",
            "13/13 [==============================] - 1s 73ms/step - loss: 0.6931 - accuracy: 0.5216 - val_loss: 0.6933 - val_accuracy: 0.4615\n",
            "Epoch 5/10\n",
            "13/13 [==============================] - 1s 72ms/step - loss: 0.6931 - accuracy: 0.5216 - val_loss: 0.6933 - val_accuracy: 0.4615\n",
            "Epoch 6/10\n",
            "13/13 [==============================] - 1s 71ms/step - loss: 0.6931 - accuracy: 0.5216 - val_loss: 0.6933 - val_accuracy: 0.4615\n",
            "Epoch 7/10\n",
            "13/13 [==============================] - 1s 71ms/step - loss: 0.6931 - accuracy: 0.5216 - val_loss: 0.6933 - val_accuracy: 0.4615\n",
            "Epoch 8/10\n",
            "13/13 [==============================] - 1s 72ms/step - loss: 0.6930 - accuracy: 0.5216 - val_loss: 0.6934 - val_accuracy: 0.4615\n",
            "Epoch 9/10\n",
            "13/13 [==============================] - 1s 72ms/step - loss: 0.6930 - accuracy: 0.5216 - val_loss: 0.6934 - val_accuracy: 0.4615\n",
            "Epoch 10/10\n",
            "13/13 [==============================] - 1s 72ms/step - loss: 0.6930 - accuracy: 0.5216 - val_loss: 0.6934 - val_accuracy: 0.4615\n",
            "7/7 - 0s - loss: 0.6934 - accuracy: 0.4615 - 124ms/epoch - 18ms/step\n"
          ]
        },
        {
          "output_type": "display_data",
          "data": {
            "text/plain": [
              "<Figure size 1080x720 with 1 Axes>"
            ],
            "image/png": "[encoded data removed]"
          },
          "metadata": {
            "needs_background": "light"
          }
        }
      ]
    },
    {
      "cell_type": "markdown",
      "source": [
        "**Answer:** as we can see from the graph above the best optimizers were Adam, Adadelta and Adagrad with accuracy of 0.9808"
      ],
      "metadata": {
        "id": "Zq56X4f_kcV2"
      }
    }
  ]
}