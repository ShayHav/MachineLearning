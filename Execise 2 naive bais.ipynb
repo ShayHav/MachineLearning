{
  "nbformat": 4,
  "nbformat_minor": 0,
  "metadata": {
    "colab": {
      "provenance": [],
      "include_colab_link": true
    },
    "kernelspec": {
      "display_name": "Python 3",
      "language": "python",
      "name": "python3"
    },
    "language_info": {
      "codemirror_mode": {
        "name": "ipython",
        "version": 3
      },
      "file_extension": ".py",
      "mimetype": "text/x-python",
      "name": "python",
      "nbconvert_exporter": "python",
      "pygments_lexer": "ipython3",
      "version": "3.7.6"
    }
  },
  "cells": [
    {
      "cell_type": "markdown",
      "metadata": {
        "id": "view-in-github",
        "colab_type": "text"
      },
      "source": [
        "<a href=\"https://colab.research.google.com/github/ShayHav/MachineLearning/blob/main/Execise%202%20naive%20bais.ipynb\" target=\"_parent\"><img src=\"https://colab.research.google.com/assets/colab-badge.svg\" alt=\"Open In Colab\"/></a>"
      ]
    },
    {
      "cell_type": "markdown",
      "metadata": {
        "id": "Uq_3t_tluNmU"
      },
      "source": [
        "# Naive Bayes"
      ]
    },
    {
      "cell_type": "markdown",
      "metadata": {
        "id": "Rum6hqi0I2V1"
      },
      "source": [
        "## Write your id numbers and names here\n",
        "\n",
        "\n",
        "1.   Shay Havivyan\n",
        "2.   Shahar Lankry\n"
      ]
    },
    {
      "cell_type": "markdown",
      "metadata": {
        "id": "TQVMUZkQHlm2"
      },
      "source": [
        "## 1. Classifying Digits\n",
        "In this part we will test digits classification on the MNIST dataset, using Bernoulli Naive Bayes (a generative model), in contrast to the Multivariate Logistic Regression (a discriminative model) we saw.\n",
        "\n",
        "The MNIST dataset contains 28x28 grayscale images of handwritten digits between 0 and 9 (10 classes). For mathmatical analysis clarity, and for matching expected API, each image faltten to create a 1D array with 784 elements."
      ]
    },
    {
      "cell_type": "markdown",
      "metadata": {
        "id": "Cjwjk6pzLE-y"
      },
      "source": [
        "### Loading the MNIST dataset\n",
        "Load the MNIST data set. The digits dataset is one of datasets scikit-learn comes with that do not require the downloading of any file from some external website. Use \n",
        "```\n",
        "mnist = sklearn.datasets.fetch_mldata('MNIST original')\n",
        "```\n",
        "to fetch the original data. You may set the `data_home` to where you wish to download your data for caching. Each image is already transformed into a 1D integer array $x\\in [0,255]^{784}$, and the corresponding label is an integer $y\\in [0,9]$.\n",
        "\n",
        "Plot a single sample of each digit as the original image, so you get a feeling how the data looks like.\n",
        "\n",
        "Finally, divide your data into train and test sets, using 1/7 of the data for testing.\n",
        "\n",
        "---\n",
        "**Note 1:** Using `digits = sklearn.datasets.load_digits()` will only fetch a very small sample of the original set, with images resized to 8x8. This preprocessing of the data reduces dimensionality and gives invariance to small distortions - however, we will use the original data in this exercise. Feel free to test the proformance of the algorithms below on the preprocessed data as well.\n",
        "\n",
        "**Note 2:**\n",
        "Since ML-Data is deprecated, you may wish to use something like this:\n",
        ">```\n",
        "from keras.datasets import mnist\n",
        "(x_train, y_train), (x_test, y_test) = mnist.load_data()\n",
        "x_train = x_train.reshape(x_train.shape[0], 784)\n",
        "x_test = x_test.reshape(x_test.shape[0], 784)\n",
        "```"
      ]
    },
    {
      "cell_type": "code",
      "metadata": {
        "id": "05Om0QLxBvvT",
        "colab": {
          "base_uri": "https://localhost:8080/"
        },
        "outputId": "e95b4f50-c397-40cf-d9ae-592ad8408304"
      },
      "source": [
        "from keras.datasets import mnist\n",
        "import matplotlib.pyplot as plt\n",
        "\n",
        "(x_train, y_train), (x_test, y_test) = mnist.load_data()\n",
        "x_train = x_train.reshape(x_train.shape[0], 784)\n",
        "x_test = x_test.reshape(x_test.shape[0], 784)\n"
      ],
      "execution_count": null,
      "outputs": [
        {
          "output_type": "stream",
          "name": "stdout",
          "text": [
            "Downloading data from https://storage.googleapis.com/tensorflow/tf-keras-datasets/mnist.npz\n",
            "11490434/11490434 [==============================] - 1s 0us/step\n"
          ]
        }
      ]
    },
    {
      "cell_type": "markdown",
      "metadata": {
        "id": "WTGjjSKaFfE6"
      },
      "source": [
        "### Bernoulli Naive Bayes\n",
        "If we know how the digits are generated, then we know how to classify them (simply choose the digit class which will maximize the posterior probability) --- but which model should we use for describing the digits generation?\n",
        "\n",
        "In this part we will try a very simplified model of digits creation (which is obviously not the same as the \"real\" model), using a Naive Bayes over an underlying Bernoulli distribution --- that is, we will assume that given a digit class, the pixels of the images are the result of independent coin flips, each with its own \"head\" probability.\n",
        "\n",
        "Note that since we assume each pixl is either 0 (black) or 1 (white), we will need to adjust (preprocess) our data accrodingly (see below).\n",
        "\n",
        "So, the model is stated as follows:\n",
        "$$\n",
        "\\begin{align}\n",
        "\\text{Domain} && x \\in \\{0,1\\}^{784} \\\\\n",
        "\\text{Prior} && \\pi_j = \\Pr(y=j) \\\\\n",
        "\\text{Likelihood} && P_j(x) = \\Pr(x | y=j) \\\\\n",
        "\\end{align}\n",
        "$$\n",
        "\n",
        "Where for each $i\\in 0\\ldots 784$ it holds that\n",
        "$$\n",
        "P_{ji}(x_i) = \\Pr(x_i | y=j) =\n",
        "\\begin{cases}\n",
        "p_{ji} & \\text{if } x_i=1 \\\\\n",
        "1-p_{ji} & \\text{if } x_i=0 \\\\\n",
        "\\end{cases}\n",
        "$$\n"
      ]
    },
    {
      "cell_type": "markdown",
      "metadata": {
        "id": "WNjhD3IpL5bC"
      },
      "source": [
        "#### Question 1\n",
        "Write the classification rule based on this Naive Bayes model. \n",
        "How would you esitmate each of the parameters of the model based on the trainning data? \n",
        "Describe in text (preferably math notationns) the classification rule, and explain.\n",
        "\n",
        "**Note:** Think of edge cases which may effect your estimator in an undesired way."
      ]
    },
    {
      "cell_type": "markdown",
      "metadata": {
        "id": "0pN1prGcMqwZ"
      },
      "source": [
        "#### Answer 1\n",
        "As seen at class the Naive Bayes optimal classifier is:\n",
        "$h_{bayes}(x)= argmax_{y ∈ [0,9]}𝐏(Y = y| X = x)$\n",
        "\n",
        "which is equivalent to the following using the bayes formula \n",
        "\\begin{align}\n",
        "h_{bayes}(x)= arg max_{y ∈ [0,9]} \\frac{𝐏\\,(Y = y)̇\\,𝐏\\,(X = x \\mid Y = y)}{𝑷\\,(X = x)}\n",
        "\\end{align}\n",
        "\n",
        "since the denominator is constant because we want to maximize y and since we know that the X's are the pixel of a image and are a result of independant of flipping a coin the formula is the following\n",
        "\n",
        "\\begin{align}\n",
        "h_{bayes}(x)= arg max_{y ∈ [0,9]} 𝑷(Y = y)∏_{i = 1}^{784}P(X = x_i | Y= y)\n",
        "\\end{align}\n",
        "\n",
        "The edge case are when there exist an i such that $P(X = x_i | Y = y) = 0$ and in this case the product will result to 0. (as we talk about in class)"
      ]
    },
    {
      "cell_type": "markdown",
      "metadata": {
        "id": "nOnkgDIXTMCQ"
      },
      "source": [
        "#### Question 2\n",
        "Run a Naive Bayes classifier on the training data and apply predictions on the test data. Use the [sklearn.naive_bayes.BernoulliNB](http://scikit-learn.org/stable/modules/generated/sklearn.naive_bayes.BernoulliNB.html) implementation (see the [source code for sklearn.naive_bayes](https://github.com/scikit-learn/scikit-learn/blob/master/sklearn/naive_bayes.py) for details).\n",
        "\n",
        "Remember we need to preprocess the data in this case such that each pixel would become either black (0) or white (1). For this, use the `binarize` parameter of the implementation. Set this value to $0$ (this is the default), which in this case would mean every pixel with non-zero value will be set to 1.\n",
        "\n",
        "1. Plot the mean image of each class (estimated $\\hat{p}_{ji}$) and generate one sample of each class (remember, you can do this since this is a generative model). You will need to access the `feature_log_prob_` attribute of the trained model.\n",
        "\n",
        "2. Plot the confusion matrix of your classifier, as claculated on the test data (it is recommended to use [sklearn.metrics.confusion_matrix](http://scikit-learn.org/stable/modules/generated/sklearn.metrics.confusion_matrix.html)). Calculate the total accuracy (fraction of correctly classified images), and summarize the results in your own words.\n",
        "\n",
        "3. Think of a way you can find the optimal threshold of the binarization part. **There is no need to actually perform this task --- just describe what you would have done.**\n"
      ]
    },
    {
      "cell_type": "markdown",
      "metadata": {
        "id": "ZKdsdegDWaO_"
      },
      "source": [
        "#### Answer 2\n",
        "according to the confusion matrix where each cell on the main diagonal is the number of correct samples predicted to it's digit. and from calculating the accuracy(summing the main diagonal and dividing the number of samples) we got high accuracy of 84%.\n",
        "\n",
        "#### Answer 3\n",
        "To find the optimal threshold of the binarization we would have calculated the accuracy of the prediction using different threshold in range of 0- 255 and choosing the argmax."
      ]
    },
    {
      "cell_type": "code",
      "metadata": {
        "id": "XalqjRWXWS-Y",
        "colab": {
          "base_uri": "https://localhost:8080/",
          "height": 1000
        },
        "outputId": "38edab26-e20f-4503-a68c-1b7b91ea3add"
      },
      "source": [
        "from keras.utils import image_dataset\n",
        "from sklearn.naive_bayes import BernoulliNB, binarize\n",
        "from sklearn.metrics import confusion_matrix, ConfusionMatrixDisplay\n",
        "import numpy as np\n",
        "from numpy.random import rand\n",
        "\n",
        "bernoulli = BernoulliNB(binarize=0.0)\n",
        "bernoulli.fit(x_train, y_train)\n",
        "predicted = bernoulli.predict(x_test)\n",
        "\n",
        "# plotting the mean image of each class\n",
        "plt.subplots(2, 5, figsize=(24,9))\n",
        "log_prob = bernoulli.feature_log_prob_\n",
        "for i in range(10):\n",
        "  fig = plt.subplot(2,5, i+ 1)\n",
        "  mean_image = np.exp(log_prob[i]).reshape(28, 28)\n",
        "  fig.imshow(mean_image, interpolation='nearest')\n",
        "  fig.set_xticks(())\n",
        "  fig.set_yticks(())\n",
        "  fig.set_xlabel('Class %i' % i)\n",
        "plt.show()\n",
        "\n",
        "# generate sample for each class\n",
        "plt.subplots(2, 5, figsize=(24,9))\n",
        "log_prob = bernoulli.feature_log_prob_\n",
        "for i in range(10):\n",
        "  fig = plt.subplot(2,5, i+1)\n",
        "  image = rand(784)\n",
        "  exp_prob = np.exp(log_prob[i])\n",
        "  image = np.where(image < exp_prob, 1, 0)\n",
        "  image = image.reshape(28,28)\n",
        "  fig.imshow(image)\n",
        "  fig.set_xticks(())\n",
        "  fig.set_yticks(())\n",
        "  fig.set_xlabel('Class %i' % i)\n",
        "plt.show()\n",
        "\n",
        "\n",
        "# plotting the confusion matrix\n",
        "c_matrix = confusion_matrix(y_test, predicted)\n",
        "conf_matrix_display = ConfusionMatrixDisplay(confusion_matrix=c_matrix)\n",
        "fig, ax = plt.subplots(figsize=(9, 9))\n",
        "conf_matrix_display.plot(ax=ax)\n",
        "\n",
        "# calculating the accurancy of the model\n",
        "accuracy = np.sum(np.diagonal(c_matrix)) / len(predicted)\n",
        "print(f'the accuracy of the Naive Bayes is {accuracy}')"
      ],
      "execution_count": null,
      "outputs": [
        {
          "output_type": "display_data",
          "data": {
            "text/plain": [
              "<Figure size 1728x648 with 10 Axes>"
            ],
            "image/png": "[encoded data removed]"
          },
          "metadata": {}
        },
        {
          "output_type": "display_data",
          "data": {
            "text/plain": [
              "<Figure size 1728x648 with 10 Axes>"
            ],
            "image/png": "[encoded data removed]"
          },
          "metadata": {}
        },
        {
          "output_type": "stream",
          "name": "stdout",
          "text": [
            "the accuracy of the Naive Bayes is 0.8413\n"
          ]
        },
        {
          "output_type": "display_data",
          "data": {
            "text/plain": [
              "<Figure size 648x648 with 2 Axes>"
            ],
            "image/png": "[encoded data removed]"
          },
          "metadata": {
            "needs_background": "light"
          }
        }
      ]
    },
    {
      "cell_type": "markdown",
      "metadata": {
        "id": "lKSgnectrTJ1"
      },
      "source": [
        "## 2. Classifing Text Documents using Multinomial Naive Bayes\n",
        "In this exercise you will classify the \"20 newsgroups\" data set using your own naive bayes classifier and compare to the scikit learn built in version.\n",
        "\n",
        "The 20 newsgroups dataset comprises around 18000 newsgroups posts on 20 topics split in two subsets: one for training (or development) and the other one for testing (or for performance evaluation). The split between the train and test set is based upon messages posted before and after a specific date.\n",
        "\n",
        "### You task\n",
        "Implement the barebone class provided: `NaiveBayes(BaseEstimator, ClassifierMixin)` and implement its `fit`, `predict` and `predict_proba` methods.\n",
        "\n",
        "Then follow next anlysis guidlinnes using the implemented class for train and test classifier:\n",
        "* Load the **train** data using `from sklearn.datasets import fetch_20newsgroups`. remove headers, footers and quotes (see documentation)\n",
        "* Use `sklearn.feature_extraction.text import CountVectorizer` to count words (stop_words='english')\n",
        "* use `sklearn.pipeline.make_pipeline` to chain the vectroizer and model.\n",
        "* note: limit the vocuabolary size if you suffer memory issues\n",
        "* compare the accuracy over the **test** data. You can use `accuracy_score, classification_report`\n",
        "* compare to the built in `sklearn.naive_bayes.MultinomialNB`\n",
        "* compare to `TfidfVectorizer` preprocessing (you can use the built in model for doing the analysis)\n",
        "* plot the learning curve - is the model in the bias or variance regime (you can use the built in model for doing the analysis)\n",
        "* optimize performance in respect to vectorizer hyper parameters (e.g. max_features, max_df etc.).\n"
      ]
    },
    {
      "cell_type": "code",
      "metadata": {
        "id": "FEbVc4Ixxe6L"
      },
      "source": [
        "from sklearn.base import BaseEstimator, ClassifierMixin\n",
        "\n",
        "class NaiveBayes(BaseEstimator, ClassifierMixin):\n",
        "  \n",
        "  _p_of_c = dict()\n",
        "  _p_of_x_given_c = dict()\n",
        "  \n",
        "\n",
        "  def fit(self, x, y):\n",
        "    classes, counts = np.unique(y,return_counts=True)\n",
        "    features_in_class = dict()\n",
        "    self._classes = classes\n",
        "    self._num_of_features = x.shape[1]\n",
        "    \n",
        "    for i, c in enumerate(classes):\n",
        "      # calculating p(c) for each class\n",
        "      self._p_of_c[c] = np.log(counts[i] / len(y))\n",
        "      features_in_class[c] = dict()\n",
        "\n",
        "      # calculating count(x_i,c)\n",
        "      for feature in range(len(x[0])):\n",
        "        n_of_occurance = 0\n",
        "        for sample in range(len(x)):\n",
        "          if y[sample] == c:\n",
        "            n_of_occurance += x[sample][feature]\n",
        "        features_in_class[c][feature] = n_of_occurance\n",
        "      n_of_features_in_c = np.sum(np.fromiter(features_in_class[c].values(), dtype=np.uint32))\n",
        "\n",
        "      # calculating p(x_i| c) => number of occurances of x_i in c, \n",
        "      # divided by total number of occurances of words in c\n",
        "      for feature, count in features_in_class[c].items():\n",
        "        prob = np.float64(count+1) / np.float64(n_of_features_in_c + x.shape[1])\n",
        "        if self._p_of_x_given_c.get(feature) is None:\n",
        "          self._p_of_x_given_c[feature] = dict()\n",
        "        self._p_of_x_given_c[feature][c] = np.log(prob)\n",
        "    return None\n",
        "\n",
        "  # returns the maximum p(c | x_i) probability for each sample in x \n",
        "  def predict_log_proba(self, x):\n",
        "    ans = []\n",
        "    for x_i in x:\n",
        "      classes_prob = []\n",
        "      for c in self._classes:\n",
        "        c_nb = self._p_of_c[c]\n",
        "        for feature in range(self._num_of_features):\n",
        "            c_nb += (self._p_of_x_given_c[feature][c] * x_i[feature])\n",
        "        classes_prob.append(c_nb)\n",
        "      max_c_nb_prob = np.max(classes_prob)\n",
        "      ans.append(max_c_nb_prob)      \n",
        "    return ans\n",
        "\n",
        "  # classify each sample to its predicted class, based on the maximum probability \n",
        "  # p( c | x_i)\n",
        "  # the probability is calculted with the formula:\n",
        "  # log(p(c | x_i)) = log(p(c)) + sum(log(p(x_i | c) * x_i))\n",
        "  def predict(self, x):\n",
        "    ans = []\n",
        "    for x_i in x:\n",
        "      classes_prob = []\n",
        "      for c in self._classes:\n",
        "        c_nb = self._p_of_c[c]\n",
        "        for feature in range(self._num_of_features):\n",
        "            c_nb += (self._p_of_x_given_c[feature][c] * x_i[feature])\n",
        "        classes_prob.append(c_nb)\n",
        "      argmax_c_nb = np.argmax(classes_prob)\n",
        "      max_class = self._classes[argmax_c_nb]\n",
        "      ans.append(max_class)      \n",
        "    return ans"
      ],
      "execution_count": null,
      "outputs": []
    },
    {
      "cell_type": "code",
      "source": [
        "from importlib.resources import contents\n",
        "from os import pipe\n",
        "from sklearn.datasets import fetch_20newsgroups\n",
        "from sklearn.feature_extraction.text import CountVectorizer, TfidfVectorizer\n",
        "from sklearn.pipeline import Pipeline\n",
        "from sklearn.metrics import accuracy_score, classification_report\n",
        "from sklearn.naive_bayes import MultinomialNB"
      ],
      "metadata": {
        "id": "b_YPeo6Mq9u_"
      },
      "execution_count": null,
      "outputs": []
    },
    {
      "cell_type": "code",
      "source": [
        "\n",
        "\n",
        "# fetching the samples\n",
        "trains = fetch_20newsgroups(subset='train',remove=(' headers','footers', 'quotes'))\n",
        "test = fetch_20newsgroups(subset='test',remove=(' headers','footers', 'quotes'))\n",
        "\n",
        "# testing our model using Count Vectorizer\n",
        "train_vectorizer = CountVectorizer(stop_words='english', max_features=1000)\n",
        "words = train_vectorizer.fit_transform(trains.data).toarray()\n",
        "ourNB = NaiveBayes()\n",
        "ourNB.fit(words, trains.target)\n",
        "test_vectorizer = CountVectorizer(vocabulary = train_vectorizer.vocabulary_)\n",
        "predicted = ourNB.predict(test_vectorizer.fit_transform(test.data).toarray())\n",
        "accuracy = accuracy_score(list(test.target), predicted)\n",
        "print(f'accuracy of our implementation of multinomial Naive Bayes with Count Vectorizer is: {accuracy}')\n",
        "\n",
        "# comparing to sklearn model\n",
        "nb = MultinomialNB()\n",
        "nb.fit(words, trains.target)\n",
        "thier_prediction = nb.predict(test_vectorizer.fit_transform(test.data).toarray())\n",
        "accuracy = accuracy_score(list(test.target), thier_prediction)\n",
        "print(f'accuracy of sklearn implementation of multinomial Naive Bayes with Count Vectorizer is: {accuracy}')\n",
        "\n",
        "# testing our model using TF-IDF Vectorizer\n",
        "train_vectorizer = TfidfVectorizer(stop_words='english', max_features=1000)\n",
        "words = train_vectorizer.fit_transform(trains.data).toarray()\n",
        "ourNB = NaiveBayes()\n",
        "ourNB.fit(words, trains.target)\n",
        "test_vectorizer = TfidfVectorizer(vocabulary = train_vectorizer.vocabulary_)\n",
        "predicted = ourNB.predict(test_vectorizer.fit_transform(test.data).toarray())\n",
        "accuracy = accuracy_score(list(test.target), predicted)\n",
        "print(f'accuracy of our implementation of multinomial Naive Bayes with TF-IDF Vectorizer is: {accuracy}')\n",
        "\n",
        "# comparing to sklearn model\n",
        "nb = MultinomialNB()\n",
        "nb.fit(words, trains.target)\n",
        "thier_prediction = nb.predict(test_vectorizer.fit_transform(test.data).toarray())\n",
        "accuracy = accuracy_score(list(test.target), thier_prediction)\n",
        "print(f'accuracy of sklearn implementation of multinomial with TF-IDF Vectorizer is: {accuracy}')"
      ],
      "metadata": {
        "colab": {
          "base_uri": "https://localhost:8080/"
        },
        "id": "9gzkjhStpeZ0",
        "outputId": "fab7e7ae-1345-472f-e2ec-5f237673b7cf"
      },
      "execution_count": null,
      "outputs": [
        {
          "output_type": "stream",
          "name": "stdout",
          "text": [
            "accuracy of our implementation of multinomial Naive Bayes with Count Vectorizer is: 0.5420870950610728\n",
            "accuracy of sklearn implementation of multinomial Naive Bayes with Count Vectorizer is: 0.5420870950610728\n",
            "accuracy of our implementation of multinomial Naive Bayes with TF-IDF Vectorizer is: 0.6058151885289432\n",
            "accuracy of sklearn implementation of multinomial with TF-IDF Vectorizer is: 0.604089219330855\n"
          ]
        }
      ]
    },
    {
      "cell_type": "code",
      "source": [
        "from sklearn.model_selection import learning_curve\n",
        "\n",
        "# creating range of samples\n",
        "num_of_samples = np.linspace(1, 9000, 5, dtype=np.uint32)\n",
        "\n",
        "# applying learning curve\n",
        "train_sizes, train_scores, test_scores = learning_curve(MultinomialNB(), words, trains.target, train_sizes=num_of_samples, scoring='accuracy')\n",
        "\n",
        "# Each column represents specific num_of_samples, we calculate mean, std, on the colums\n",
        "train_scores_mean = np.mean(train_scores, axis=1)\n",
        "train_scores_std = np.std(train_scores, axis=1)\n",
        "test_scores_mean = np.mean(test_scores, axis=1)\n",
        "test_scores_std = np.std(test_scores, axis=1)\n",
        "\n",
        "plt.grid()\n",
        "\n",
        "# we plot the data around the calculated mean, in the range of the std\n",
        "plt.fill_between(train_sizes, train_scores_mean- train_scores_std, train_scores_mean + train_scores_std, alpha=0.5, color='r')\n",
        "plt.fill_between(train_sizes, test_scores_mean - test_scores_std, test_scores_mean + test_scores_std, alpha=0.5, color='g')\n",
        "\n",
        "plt.plot(train_sizes, train_scores_mean, \"-o\", color=\"r\", label=\"Training Score\")\n",
        "plt.plot(train_sizes, test_scores_mean, \"o-\", color=\"g\", label=\"Cross-validation Score\")\n",
        "\n",
        "plt.legend(loc='best')\n",
        "plt.xlabel(\"Number of Samples\")\n",
        "plt.ylabel(\"Score\")\n",
        "\n",
        "plt.show()"
      ],
      "metadata": {
        "colab": {
          "base_uri": "https://localhost:8080/",
          "height": 279
        },
        "id": "l-A93xfMdSm9",
        "outputId": "83afc67d-150a-4ca2-fb63-da018426979d"
      },
      "execution_count": null,
      "outputs": [
        {
          "output_type": "display_data",
          "data": {
            "text/plain": [
              "<Figure size 432x288 with 1 Axes>"
            ],
            "image/png": "[encoded data removed]"
          },
          "metadata": {
            "needs_background": "light"
          }
        }
      ]
    },
    {
      "cell_type": "code",
      "source": [
        "from sklearn.pipeline import Pipeline\n",
        "from sklearn.metrics import make_scorer\n",
        "import pandas as pd\n",
        "from sklearn.model_selection import GridSearchCV\n",
        "\n",
        "pipeline = Pipeline([\n",
        "    ('vectorizer', TfidfVectorizer()),\n",
        "    ('clf', MultinomialNB())\n",
        "])\n",
        "\n",
        "# we want to optimize the accuracy based on vectorizer parameters\n",
        "parameters = {\n",
        "    'vectorizer__max_features': (500,1000,1500),\n",
        "    'vectorizer__max_df': (0.5, 0.75, 1)\n",
        "}\n",
        "\n",
        "score = make_scorer(accuracy_score)\n",
        "\n",
        "grid_obj = GridSearchCV(\n",
        "    pipeline,\n",
        "    parameters,\n",
        "    scoring = score,\n",
        "    return_train_score=True\n",
        ")\n",
        "\n",
        "grid_obj.fit(trains.data, trains.target)\n",
        "print(f'The best combination of the parameters max_df and max_features is:{grid_obj.best_params_}')\n",
        "\n",
        "scores = pd.DataFrame(grid_obj.cv_results_)\n",
        "maximum_score = max(scores['mean_test_score'])\n",
        "print(f'The maximum mean test score is:{maximum_score}')\n",
        "\n"
      ],
      "metadata": {
        "colab": {
          "base_uri": "https://localhost:8080/"
        },
        "id": "yQWaJ0Mj5bO4",
        "outputId": "e353c069-a67b-4d81-85d3-e7bbc1e828ef"
      },
      "execution_count": null,
      "outputs": [
        {
          "output_type": "stream",
          "name": "stdout",
          "text": [
            "The best combination of the parameters max_df and max_features is:{'vectorizer__max_df': 0.5, 'vectorizer__max_features': 1500}\n",
            "The maximum mean test score is:0.6929472820950414\n"
          ]
        }
      ]
    },
    {
      "cell_type": "code",
      "source": [
        "clf = grid_obj.best_estimator_\n",
        "clf.fit(trains.data, trains.target)\n",
        "print(f'The accuracy score of the best estimator in the grid_obj: {accuracy_score(test.target, clf.predict(test.data))}')"
      ],
      "metadata": {
        "colab": {
          "base_uri": "https://localhost:8080/"
        },
        "id": "G1h_fUK4Cvno",
        "outputId": "80fe4c6b-0597-470c-8411-bd78dacce667"
      },
      "execution_count": null,
      "outputs": [
        {
          "output_type": "stream",
          "name": "stdout",
          "text": [
            "The accuracy score of the best estimator in the grid_obj: 0.633563462559745\n"
          ]
        }
      ]
    },
    {
      "cell_type": "markdown",
      "source": [
        "**Answer:**\n",
        "\n",
        "We performed GridSearchCV, trying to find the best combination of vectorizer hyper prarameters to optimize the poor accuracy from the previous section. \n",
        "As we see, there is a significant improvement in the accuracy, from 54% or 60% to 63%. \n",
        "We can refine the range of the given parameters even more to get better optimizations. "
      ],
      "metadata": {
        "id": "Jx8qaoGvsGHE"
      }
    },
    {
      "cell_type": "markdown",
      "metadata": {
        "id": "d1S_v22_vDCs"
      },
      "source": [
        "#### Model interpretability\n",
        "Find the most important features for a **specific** decision of a NB classifier.\n",
        "Because the model has learned the prior $p(x_i|c)$ during the training, the contribution of an individual feature value can be easily measured by the posterior, $p(c|x_i)=p(c)p(x_i|c)/p(x_i)$\n",
        "Implement a function which gets a scikit-learn NB model as input and returns $P(c|x_i)$:\n",
        "\n",
        "`def calc_p_c_given_xi(model)`\n",
        "\n",
        "Hint: Use the following model properties:\n",
        "\n",
        "* `model.class_log_prior_`\n",
        "* `model.feature_log_prob_`\n",
        "\n",
        "Note: remember these are logs and you need to use np.exp and normalize to get $P(c|x_i)$ \n",
        "Another hint: use numpy built-in broadcasting property.\n",
        "\n",
        "* Use the interpretation to examine errors of the classifier where $\\hat{c}\\ne c$. Which top words support the correct class and which support the wrong class? You can use the `print_txt` below to color words."
      ]
    },
    {
      "cell_type": "code",
      "metadata": {
        "id": "WrTOhkHV9msW",
        "colab": {
          "base_uri": "https://localhost:8080/"
        },
        "outputId": "f38e696b-9014-45b9-e6c0-7662474b2190"
      },
      "source": [
        "import string\n",
        "def print_txt(txt, hot, cold):\n",
        "  \"\"\"\n",
        "  print the text, coloring hot and cold words with colors\n",
        "  \"\"\"\n",
        "  cold_color='\\x1b[41;37m{}\\x1b[0m'\n",
        "  hot_color='\\x1b[42;37m{}\\x1b[0m'\n",
        "  mid_color = '\\x1b[43;37m{}\\x1b[0m'\n",
        "  def color(token):\n",
        "    lower = str(token).lower()\n",
        "    lower = lower.replace('\\t','').replace('\\n','')\n",
        "    lower = lower.translate(string.punctuation)\n",
        "    if (lower in hot) and (lower in cold):\n",
        "      return mid_color.format(token)\n",
        "    elif lower in hot:\n",
        "      return hot_color.format(token)\n",
        "    elif lower in cold:\n",
        "      return cold_color.format(token)\n",
        "    else:\n",
        "      return token\n",
        "  colored_txt = \" \".join([color(token) for token in txt.split(' ')])\n",
        "  print(colored_txt)\n",
        "print_txt('This word support the first class but this the other', ['word'],['other'])"
      ],
      "execution_count": null,
      "outputs": [
        {
          "output_type": "stream",
          "name": "stdout",
          "text": [
            "This \u001b[42;37mword\u001b[0m support the first class but this the \u001b[41;37mother\u001b[0m\n"
          ]
        }
      ]
    },
    {
      "cell_type": "code",
      "metadata": {
        "id": "9Vz_BLhZwI9U"
      },
      "source": [
        "def calc_p_c_given_xi(model):\n",
        "\n",
        "  p_c = np.exp(model.class_log_prior_)\n",
        "  \n",
        "  p_xi_given_c = np.transpose(np.exp(model.feature_log_prob_))\n",
        "\n",
        "  # calculting p(x_i)\n",
        "  total_num_of_occurances = np.sum(model.feature_count_)\n",
        "  total_occurances_of_xi = np.sum(model.feature_count_, 1)\n",
        "  p_xi = total_occurances_of_xi / total_num_of_occurances\n",
        "\n",
        "  return p_c * p_xi_given_c / p_xi\n",
        "  "
      ],
      "execution_count": null,
      "outputs": []
    },
    {
      "cell_type": "code",
      "source": [
        "# analyzing the errors of the sklearn multinumial NB model\n",
        "# we will used the variable 'words' which is the 20newGroups text using tf-idf vectorizer\n",
        "model = MultinomialNB()\n",
        "vectorizer = CountVectorizer(stop_words='english', max_features=1000)\n",
        "words = vectorizer.fit_transform(trains.data)\n",
        "model.fit(words, trains.target)\n",
        "\n",
        "# maintain the same vocabulary\n",
        "test_vectorizer = CountVectorizer(vocabulary = vectorizer.vocabulary_)\n",
        "\n",
        "test_words = test_vectorizer.fit_transform(test.data)\n",
        "predictions = model.predict(test_words)\n",
        "\n",
        "p_c_given_xi = np.transpose(calc_p_c_given_xi(model))\n",
        "feature_names = vectorizer.get_feature_names_out()\n",
        "\n",
        "# for each error prediction, we print the top word supporting the errored prediction, \n",
        "# and the top word supporting the real value, based on pre-calcultion with the \n",
        "# function \"calc_p_c_given_xi\"\n",
        "\n",
        "# since we are printing texts, we will print only 20 samples\n",
        "for i in range(20):\n",
        "    if test.target[i] != predictions[i]:\n",
        "      predicted_class= predictions[i]\n",
        "      real_class = test.target[i]\n",
        "\n",
        "      # we want to eliminate probabilities for words that does not appear. we prefer power then multiplication.\n",
        "      # if count(c,x_i)=0 -> p_c_x_i ** 0 = 1 \n",
        "      # if count(c, x_i) is very large, the p_c_xi** count will be very small. \n",
        "      # therefore we take argmin\n",
        "      predict_prob = np.power(p_c_given_xi[predicted_class], test_words[i].toarray())\n",
        "      real_prob = np.power(p_c_given_xi[real_class], test_words[i].toarray())\n",
        "\n",
        "      predicted_top_word= feature_names[np.argmin(predict_prob)]\n",
        "      real_top_word = feature_names[np.argmin(real_prob)]\n",
        "\n",
        "      print('-'*80)\n",
        "      print(f'predicted class top word:\\x1b[41;37m{predicted_top_word}\\x1b[0m\\nreal class top word:\\x1b[42;37m{real_top_word}\\x1b[0m\\n')\n",
        "      print_txt(test.data[i], [real_top_word],[predicted_top_word])\n"
      ],
      "metadata": {
        "colab": {
          "base_uri": "https://localhost:8080/"
        },
        "id": "RfWXrPT4IZwX",
        "outputId": "18cff629-8472-44bf-9f3e-b6dc44d0f53e"
      },
      "execution_count": null,
      "outputs": [
        {
          "output_type": "stream",
          "name": "stdout",
          "text": [
            "--------------------------------------------------------------------------------\n",
            "predicted class top word:\u001b[41;37mface\u001b[0m\n",
            "real class top word:\u001b[42;37mface\u001b[0m\n",
            "\n",
            "From: Rick Miller <rick@ee.uwm.edu>\n",
            "Subject: X-Face?\n",
            "Organization: Just me.\n",
            "Lines: 17\n",
            "Distribution: world\n",
            "NNTP-Posting-Host: 129.89.2.33\n",
            "Summary: Go ahead... swamp me.  <EEP!>\n",
            "\n",
            "I'm not familiar at all with the format of these \"X-Face:\" thingies, but\n",
            "after seeing them in some folks' headers, I've *got* to *see* them (and\n",
            "maybe make one of my own)!\n",
            "\n",
            "I've got \"dpg-view\" on my Linux box (which displays \"uncompressed X-Faces\")\n",
            "and I've managed to compile [un]compface too... but now that I'm *looking*\n",
            "for them, I can't seem to find any X-Face:'s in anyones news headers!  :-(\n",
            "\n",
            "Could you, would you, please send me your \"X-Face:\" header?\n",
            "\n",
            "I *know* I'll probably get a little swamped, but I can handle it.\n",
            "\n",
            "\t...I hope.\n",
            "--------------------------------------------------------------------------------\n",
            "predicted class top word:\u001b[41;37msgi\u001b[0m\n",
            "real class top word:\u001b[42;37msgi\u001b[0m\n",
            "\n",
            "From: livesey@solntze.wpd.sgi.com (Jon Livesey)\n",
            "Subject: Re: After 2000 years, can we say that Christian Morality is\n",
            "Organization: sgi\n",
            "Lines: 22\n",
            "Distribution: world\n",
            "NNTP-Posting-Host: solntze.wpd.sgi.com\n",
            "\n",
            "\n",
            "I've just spent two solid months arguing that no such thing as an\n",
            "objective moral system exists.\n",
            "--------------------------------------------------------------------------------\n",
            "predicted class top word:\u001b[41;37mbook\u001b[0m\n",
            "real class top word:\u001b[42;37mbook\u001b[0m\n",
            "\n",
            "From: banschbach@vms.ocom.okstate.edu\n",
            "Subject: Re: Candida(yeast) Bloom, Fact or Fiction\n",
            "Organization: OSU College of Osteopathic Medicine\n",
            "Lines: 91\n",
            "Nntp-Posting-Host: vms.ocom.okstate.edu\n",
            "\n",
            "\n",
            "Elisabeth, let's set the record straight for the nth time, I have not read \n",
            "\"The Yeast Connection\".  So anything that I say is not due to brainwashing \n",
            "by this \"hated\" book.  It's okay I guess to hate the book, by why hate me?\n",
            "Elisabeth, I'm going to quote from Zinsser's Microbiology, 20th Edition.\n",
            "A \u001b[43;37mbook\u001b[0m that you should be familiar with and not \"hate\". \"Candida species \n",
            "colonize the mucosal surfaces of all humans during birth or shortly \n",
            "thereafter.  The risk of endogenous infection is clearly ever present.  \n",
            "Indeed, candidiasis occurs worldwide and is the most common systemic \n",
            "mycosis.\"  Neutrophils play the main role in preventing a systemic \n",
            "infection(candidiasis) so you would have to have a low neutrophil count or \n",
            "\"sick\" neutrophils to see a systemic infection.  Poor diet and persistent \n",
            "parasitic infestation set many third world residents up for candidiasis.\n",
            "Your assessment of candidiasis in the U.S. is correct and I do not dispute \n",
            "it.\n",
            "\n",
            "What I posted was a discussion of candida blooms, without systemic \n",
            "infection.  These blooms would be responsible for local sites of irritation\n",
            "(GI tract, mouth, vagina and sinus cavity).  Knocking down the bacterial \n",
            "competition for candida was proposed as a possible trigger for candida \n",
            "blooms.  Let me quote from Zinsser's again: \"However, some factors, such as \n",
            "the use of a broad-spectrum antibacterial antibiotic, may predispose to \n",
            "both mucosal and systemic infections\".  I was addressing mucosal infections\n",
            "(I like the term blooms better).  The nutrition course that I teach covers \n",
            "this effect of antibiotic treatment as well as the \"cure\".  I guess that \n",
            "your nutrition course does not, too bad.  \n",
            "\n",
            "\n",
            "\n",
            "My, my Elisabeth, do I detect a little of Steve Dyer in you?  If you \n",
            "noticed my faculty rank, I'm a biochemist, not a microbiologist.\n",
            "Candida is classifed as a fungus(according to Zinsser's).  But, as you point \n",
            "out, it displays dimorphism.  It is capable of producing yeast cells, \n",
            "pseudohyphae and true hyphae.  Elisabeth, you are probably a microbiologist \n",
            "and that makes a lot of sense to you.  To a biochemist, it's a lot of \n",
            "Greek.  So I called it a yeast-like fungus, go ahead and crucify me.\n",
            "\n",
            "You know Elisabeth, I still haven't been able to figure out why such a small \n",
            "little organism like Candida can bring out so much hostility in people in \n",
            "Sci. Med.  And I must admitt that I got sucked into the mud slinging too.\n",
            "I keep hoping that if people will just take the time to think about what \n",
            "I've said, that it will make sense.  I'm not asking anyone here to buy into \n",
            "\"The Yeast Connection\" \u001b[43;37mbook\u001b[0m because I don't know what's in that book, plain \n",
            "and simple. And to be honest with you, I'm beginning to wish that it was never \n",
            "written.\n",
            "--------------------------------------------------------------------------------\n",
            "predicted class top word:\u001b[41;37mcom\u001b[0m\n",
            "real class top word:\u001b[42;37mcom\u001b[0m\n",
            "\n",
            "From: PETCH@gvg47.gvg.tek.com (Chuck)\n",
            "Subject: Daily Verse\n",
            "Lines: 3\n",
            "--------------------------------------------------------------------------------\n",
            "predicted class top word:\u001b[41;37mword\u001b[0m\n",
            "real class top word:\u001b[42;37mfile\u001b[0m\n",
            "\n",
            "From: fortmann@superbowl.und.ac.za (Paul Fortmann - PG)\n",
            "Subject: \"The \u001b[41;37mWord\u001b[0m Perfect\" EXE \u001b[42;37mfile\u001b[0m needed\n",
            "Organization: University Of Natal (Durban)\n",
            "Lines: 14\n",
            "\n",
            "A friend of mine managed to get a copy of a computerised Greek and Hebrew \n",
            "Lexicon called \"The \u001b[41;37mWord\u001b[0m Perfect\" (That is not the \u001b[41;37mword\u001b[0m processing \n",
            "package WordPerfect). However, some one wiped out the EXE file, and she \n",
            "has not been able to restore it. There are no distributors of the package in \n",
            "South Africa. I would appreciate it, if some one could email me the file, or \n",
            "at least tell me where I could get it from. \n",
            "\n",
            "My email address is\n",
            "\tfortmann@superbowl.und.ac.za     or\n",
            "\tfortmann@shrike.und.ac.za\n",
            " \n",
            "Many thanks.\n",
            "--------------------------------------------------------------------------------\n",
            "predicted class top word:\u001b[41;37mline\u001b[0m\n",
            "real class top word:\u001b[42;37mline\u001b[0m\n",
            "\n",
            "From: Greg.Reinacker@FtCollins.NCR.COM\n",
            "Subject: Windows On-Line Review uploaded\n",
            "Reply-To: Greg.Reinacker@FtCollinsCO.NCR.COM\n",
            "Organization: NCR Microelectronics, Ft. Collins, CO\n",
            "Lines: 12\n",
            "\n",
            "I have uploaded the Windows On-Line Review shareware edition to\n",
            "ftp.cica.indiana.edu as /pub/pc/win3/uploads/wolrs7.zip.\n",
            "\n",
            "It is an on-line magazine which contains reviews of some shareware\n",
            "products...I grabbed it from the Windows On-Line BBS.\n",
            "\n",
            "--\n",
            "--------------------------------------------------------------------------------\n",
            "predicted class top word:\u001b[41;37mcolor\u001b[0m\n",
            "real class top word:\u001b[42;37mcolor\u001b[0m\n",
            "\n",
            "From: sirosh@cs.utexas.edu (Joseph Sirosh)\n",
            "Subject: X Design choice for \u001b[43;37mcolor\u001b[0m handling: question\n",
            "Organization: CS Dept, University of Texas at Austin\n",
            "Lines: 16\n",
            "NNTP-Posting-Host: cascais.cs.utexas.edu\n",
            "Keywords: color\n",
            "\n",
            "Most graphics systems I have seen have drawing routines that also specify\n",
            "a \u001b[43;37mcolor\u001b[0m for drawing, like\n",
            "\n",
            "Drawpoint(x,y,color) or Drawline(x1,y1,x2,y2,color) or\n",
            "Fillrectangle(x1,y1,x2,y2,color) \n",
            "\n",
            "With X, I have to do something like \n",
            "XSetForeground(current_color)\n",
            "XDrawPoint(d,w,x,y)\n",
            "\n",
            "Why split this into two functions? Why did X designers decide to not associate\n",
            "the \u001b[43;37mcolor\u001b[0m with the object being drawn, and instead associate it with the\n",
            "display it is being drawn on?\n",
            "--------------------------------------------------------------------------------\n",
            "predicted class top word:\u001b[41;37mrules\u001b[0m\n",
            "real class top word:\u001b[42;37mrules\u001b[0m\n",
            "\n",
            "From: tclock@orion.oac.uci.edu (Tim Clock)\n",
            "Subject: Re: Peace Talks\n",
            "Nntp-Posting-Host: orion.oac.uci.edu\n",
            "Organization: University of California, Irvine\n",
            "Lines: 38\n",
            "\n",
            "\n",
            "You *know* that putting something like this out on the newsgroup is *only*\n",
            "going to generate flames, not discussion. Try adding some substance to\n",
            "the issue of \"gestures\" you mentioned.\n",
            "\n",
            "What is it you feel that Israel *has* offered as a \"gesture\"? What would\n",
            "you (*realistically*) expect to see presented by the Arabs/Palestinians\n",
            "in the way of \"gesture\"?\n",
            "\n",
            "\n",
            "What are the \"rules\" that have been bent by Arab actions? It would seem\n",
            "that the Israeli deportations were seen by the other side as an example\n",
            "of \"changing the rules\". \n",
            "\n",
            "\n",
            "--------------------------------------------------------------------------------\n",
            "predicted class top word:\u001b[41;37mmorality\u001b[0m\n",
            "real class top word:\u001b[42;37mway\u001b[0m\n",
            "\n",
            "From: acooper@mac.cc.macalstr.edu (Turin Turambar, ME Department of Utter Misery)\n",
            "Subject: Re: Christian \u001b[41;37mMorality\u001b[0m is\n",
            "Organization: Macalester College\n",
            "Lines: 107\n",
            "\n",
            "\n",
            "Probably because it IS rape.\n",
            "\n",
            "\n",
            "So nothing.  It may work for some, but not for others: it doesn't give any\n",
            "insight into an overall God or overall truth of a religion- it would seem to be\n",
            "dependent solely on the individual, as well as individually-created.  And since\n",
            "Christians have failed to show us how there \u001b[42;37mway\u001b[0m of life is in any wy better\n",
            "than ours, I do not see why the attempt to try it is necessary, or even\n",
            "particularly attractive.\n",
            "\n",
            "\n",
            "Well, we will nerver know for sure if we were told the truth or not, but at the\n",
            "very least there is a bit more evidence pointing to the fact that, say, there\n",
            "was a military conflict in Vietnam 25 years ago, then there is a supernatural\n",
            "diety who wants us to live a certain way.  The fact that Jesus warned against\n",
            "it means nothing.  *I* warn against it too.  Big deal.\n",
            "\n",
            "\n",
            "This is not true.  The first two choices here (life and death) are scantily\n",
            "documented, and the last one is total malarky unless one uses the Bible, and\n",
            "that is totally circular.  Perhaps it be better to use the imagination, or\n",
            "one's ignorance.  Someone else will address this I'm sure, and refer you to\n",
            "plenty of documentation...\n",
            "\n",
            "\n",
            "How is this?  There is nothing more disgusting than Christian attempts to\n",
            "manipulate/interpret the Old Testament as being filled with signs for the\n",
            "coming of Christ.  Every little reference to a stick or bit of wood is\n",
            "autmoatically interpreted as the Cross.  What a miscarriage of philology.\n",
            "\n",
            "\n",
            "Well, since we have skeptical hearts (thank goodness,) there is no \u001b[42;37mway\u001b[0m to get\n",
            "into us.  Here we have the irreconcilable difference: Christians glorify\n",
            "exactly what we tend to despise or snub: trust/belief/faith without knowledge. \n",
            "If I am lucky one day and I happen to be thinking of God at the same time my\n",
            "enkephalins go up, then I may associate this as a sign of God (it will \"feel\"\n",
            "right, and I will trust without knowing).  Maybe.  Religosity does not seem to\n",
            "be anything that is conclusively arrived at, but rather it seems to be more of\n",
            "a sudden affliction...\n",
            "I believe many of us were willing to die for what we believed, many of us were\n",
            "not.  The question is, is suchg an attitude reflective of a _correct_ or\n",
            "healthy morality.  IT would seem not to be.  The same thing could reflect\n",
            "fanaticism, for example, and is any case an expression of simple selfishness.\n",
            "-- \n",
            "\n",
            "--Adam\n",
            "--------------------------------------------------------------------------------\n",
            "predicted class top word:\u001b[41;37mbus\u001b[0m\n",
            "real class top word:\u001b[42;37mbus\u001b[0m\n",
            "\n",
            "From: charlea@eng.clemson.edu (charles allen)\n",
            "Subject: Re: Question on EISA video board performance\n",
            "Organization: Clemson University\n",
            "Lines: 44\n",
            "\n",
            "From article <C68uBG.K2w@world.std.com>, by cfw@world.std.com (Christopher F Wroten):\n",
            "Good question.\n",
            "Answer: The EISA \u001b[43;37mbus\u001b[0m does move 32 bits rather than ISA's 8/(16?)\n",
            "        But it still moves it at about the speed as the ISA bus.\n",
            "        I think that's either 8 or 10 mhz.\n",
            "        The local \u001b[43;37mbus\u001b[0m designs also move 32 bits like the EISA, but\n",
            "        they move the data at the cpu speed, up to 40 mhz.\n",
            "        So, on a 33mhz cpu, the local \u001b[43;37mbus\u001b[0m is moving 32bit data at\n",
            "        33 mhz, and the EISA is moving 32bit data at 8 or 10 mhz.\n",
            "        So the local \u001b[43;37mbus\u001b[0m should be 3 to 4 times faster than EISA on\n",
            "        a 33 mhz cpu.  EISA should be about two (maybe 3) times as\n",
            "        fast as ISA.\n",
            "\n",
            "That's a very good question.  The EISA \u001b[43;37mbus\u001b[0m does have more advantages\n",
            "over the ISA \u001b[43;37mbus\u001b[0m than just it's width.  For example: more/better \n",
            "interrupts and \u001b[43;37mbus\u001b[0m mastering.  But these other factors do not impact\n",
            " a video card very much.  They have more impact on file servers with \n",
            "multiple hard drives, full-throttle network cards, cd-roms, etc.\n",
            "--------------------------------------------------------------------------------\n",
            "predicted class top word:\u001b[41;37mtext\u001b[0m\n",
            "real class top word:\u001b[42;37mtext\u001b[0m\n",
            "\n",
            "From: jacobs@cerritos.edu\n",
            "Subject: Problem printing Quark on a SWII\n",
            "Organization: Cerritos College, Norwalk CA\n",
            "Lines: 15\n",
            "\n",
            "Iv'e got a problem printing with a StyleWriterII. I am printing from a IIvx\n",
            "with 20 megs ram. I am trying to print a Quark file that has 2 fonts a couple\n",
            "of boxes and 3 gradient fills. \n",
            "\n",
            "Two things happen: I get a \" Disk is full\" error, that I can't find documented,\n",
            "I also have parts of letters that are over one of the gradient fills get cut\n",
            "off. This only happens to the \u001b[43;37mtext\u001b[0m over the fill. \u001b[43;37mText\u001b[0m adjecent in a different\n",
            "box is uneffected.\n",
            "\n",
            "Any ideas?\n",
            "--------------------------------------------------------------------------------\n",
            "predicted class top word:\u001b[41;37m21\u001b[0m\n",
            "real class top word:\u001b[42;37mmike\u001b[0m\n",
            "\n",
            "From: \u001b[42;37mMike\u001b[0m Diack <mike-d@staff.tc.umn.edu>\n",
            "Subject: Re: Electronic Components etc\n",
            "X-Xxmessage-Id: <A7FD05D0F6016515@dialup-slip-1-21.gw.umn.edu>\n",
            "X-Xxdate: Fri, 23 Apr 93 02:32:48 GMT\n",
            "Nntp-Posting-Host: dialup-slip-1-21.gw.umn.edu\n",
            "Organization: persian cat & carpet co.\n",
            "X-Useragent: Nuntius v1.1.1d7\n",
            "Lines: 19\n",
            "--------------------------------------------------------------------------------\n",
            "predicted class top word:\u001b[41;37mtexas\u001b[0m\n",
            "real class top word:\u001b[42;37mtexas\u001b[0m\n",
            "\n",
            "From: dlb5404@tamuts.tamu.edu (Daryl Biberdorf)\n",
            "Subject: \u001b[43;37mTEXAS\u001b[0m HB 1776 - VOTING IS TODAY\n",
            "Organization: \u001b[43;37mTexas\u001b[0m A&M University, College Station\n",
            "Lines: 8\n",
            "Distribution: usa\n",
            "NNTP-Posting-Host: tamuts.tamu.edu\n",
            "\n",
            "I just called Texas' legislative bill tracking service and found out\n",
            "that HB 1776 (Concealed Carry) is scheduled for a floor vote TODAY!\n",
            "Let those phone calls roll in.\n",
            "\n",
            "Daryl\n"
          ]
        }
      ]
    },
    {
      "cell_type": "markdown",
      "metadata": {
        "id": "kww6g1jGv_Fw"
      },
      "source": [
        "#### Think and describe:\n",
        "#### How can you correct the analyzed error?\n",
        "\n",
        "To read more about model interpretation, see the blogpost below and the tutorial:\n",
        "* https://lilianweng.github.io/lil-log/2017/08/01/how-to-explain-the-prediction-of-a-machine-learning-model.html\n",
        "* https://github.com/chanansh/right_but_why"
      ]
    },
    {
      "cell_type": "markdown",
      "metadata": {
        "id": "K4QrAGdiwD6f"
      },
      "source": [
        "**Answer:**  \n",
        "\n",
        "we can create a histogram of the error words, and then we can remove from the model the top words that support the wrong classes and leads to errors. \n"
      ]
    }
  ]
}
